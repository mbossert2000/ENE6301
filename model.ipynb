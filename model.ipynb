{
 "cells": [
  {
   "cell_type": "code",
   "execution_count": 1,
   "metadata": {},
   "outputs": [],
   "source": [
    "import numpy as np\n",
    "import pandas as pd\n",
    "from IPython.display import display\n",
    "import geopandas as gpd"
   ]
  },
  {
   "cell_type": "markdown",
   "metadata": {},
   "source": [
    "# Data preparation"
   ]
  },
  {
   "cell_type": "code",
   "execution_count": 2,
   "metadata": {},
   "outputs": [],
   "source": [
    "data_2013 = pd.read_csv(\"./data/2012-2013 Solar home electricity data v2.csv\", header = 1)"
   ]
  },
  {
   "cell_type": "code",
   "execution_count": 4,
   "metadata": {},
   "outputs": [
    {
     "name": "stdout",
     "output_type": "stream",
     "text": [
      "number of NA (non-actual) row: 0\n"
     ]
    }
   ],
   "source": [
    "#count the number of NA (non-actual) in 'Row Quality' column:\n",
    "print(f\"number of NA (non-actual) row: {data_2013['Row Quality'].count()}\")"
   ]
  },
  {
   "cell_type": "code",
   "execution_count": 5,
   "metadata": {},
   "outputs": [],
   "source": [
    "#store customer infos\n",
    "data_cust = data_2013.groupby(by='Customer')\n",
    "cust_info = pd.DataFrame()\n",
    "cust_info['Customer ID'] = data_cust['Customer'].first()\n",
    "cust_info['Generator Capacity'] = data_cust['Generator Capacity'].first()\n",
    "cust_info['Postcode'] = data_cust['Postcode'].first()"
   ]
  },
  {
   "cell_type": "code",
   "execution_count": 32,
   "metadata": {},
   "outputs": [],
   "source": [
    "#rearrange dataframe\n",
    "meltdate = data_2013.melt(id_vars = ['Customer', 'Consumption Category', 'date'], value_vars = data_2013.columns[5:53], var_name = 'time', value_name = 'power')\n",
    "unstk = meltdate.pivot_table('power', ['Customer', 'date', \"time\"], 'Consumption Category')"
   ]
  },
  {
   "cell_type": "code",
   "execution_count": 33,
   "metadata": {},
   "outputs": [
    {
     "data": {
      "text/html": [
       "<div>\n",
       "<style scoped>\n",
       "    .dataframe tbody tr th:only-of-type {\n",
       "        vertical-align: middle;\n",
       "    }\n",
       "\n",
       "    .dataframe tbody tr th {\n",
       "        vertical-align: top;\n",
       "    }\n",
       "\n",
       "    .dataframe thead th {\n",
       "        text-align: right;\n",
       "    }\n",
       "</style>\n",
       "<table border=\"1\" class=\"dataframe\">\n",
       "  <thead>\n",
       "    <tr style=\"text-align: right;\">\n",
       "      <th>Consumption Category</th>\n",
       "      <th>CL</th>\n",
       "      <th>GC</th>\n",
       "      <th>GG</th>\n",
       "    </tr>\n",
       "    <tr>\n",
       "      <th>Timestamp</th>\n",
       "      <th></th>\n",
       "      <th></th>\n",
       "      <th></th>\n",
       "    </tr>\n",
       "  </thead>\n",
       "  <tbody>\n",
       "    <tr>\n",
       "      <th>2012-07-01 00:00:00</th>\n",
       "      <td>86.601</td>\n",
       "      <td>102.973</td>\n",
       "      <td>0.015</td>\n",
       "    </tr>\n",
       "    <tr>\n",
       "      <th>2012-07-01 00:30:00</th>\n",
       "      <td>95.035</td>\n",
       "      <td>83.167</td>\n",
       "      <td>0.024</td>\n",
       "    </tr>\n",
       "    <tr>\n",
       "      <th>2012-07-01 01:00:00</th>\n",
       "      <td>79.293</td>\n",
       "      <td>76.027</td>\n",
       "      <td>0.049</td>\n",
       "    </tr>\n",
       "    <tr>\n",
       "      <th>2012-07-01 01:30:00</th>\n",
       "      <td>73.399</td>\n",
       "      <td>75.627</td>\n",
       "      <td>0.027</td>\n",
       "    </tr>\n",
       "    <tr>\n",
       "      <th>2012-07-01 02:00:00</th>\n",
       "      <td>58.312</td>\n",
       "      <td>65.588</td>\n",
       "      <td>0.038</td>\n",
       "    </tr>\n",
       "    <tr>\n",
       "      <th>...</th>\n",
       "      <td>...</td>\n",
       "      <td>...</td>\n",
       "      <td>...</td>\n",
       "    </tr>\n",
       "    <tr>\n",
       "      <th>2013-06-30 21:30:00</th>\n",
       "      <td>4.682</td>\n",
       "      <td>160.788</td>\n",
       "      <td>0.031</td>\n",
       "    </tr>\n",
       "    <tr>\n",
       "      <th>2013-06-30 22:00:00</th>\n",
       "      <td>16.506</td>\n",
       "      <td>154.692</td>\n",
       "      <td>0.019</td>\n",
       "    </tr>\n",
       "    <tr>\n",
       "      <th>2013-06-30 22:30:00</th>\n",
       "      <td>24.024</td>\n",
       "      <td>145.467</td>\n",
       "      <td>0.008</td>\n",
       "    </tr>\n",
       "    <tr>\n",
       "      <th>2013-06-30 23:00:00</th>\n",
       "      <td>26.264</td>\n",
       "      <td>137.357</td>\n",
       "      <td>0.007</td>\n",
       "    </tr>\n",
       "    <tr>\n",
       "      <th>2013-06-30 23:30:00</th>\n",
       "      <td>47.475</td>\n",
       "      <td>122.438</td>\n",
       "      <td>0.000</td>\n",
       "    </tr>\n",
       "  </tbody>\n",
       "</table>\n",
       "<p>17520 rows × 3 columns</p>\n",
       "</div>"
      ],
      "text/plain": [
       "Consumption Category      CL       GC     GG\n",
       "Timestamp                                   \n",
       "2012-07-01 00:00:00   86.601  102.973  0.015\n",
       "2012-07-01 00:30:00   95.035   83.167  0.024\n",
       "2012-07-01 01:00:00   79.293   76.027  0.049\n",
       "2012-07-01 01:30:00   73.399   75.627  0.027\n",
       "2012-07-01 02:00:00   58.312   65.588  0.038\n",
       "...                      ...      ...    ...\n",
       "2013-06-30 21:30:00    4.682  160.788  0.031\n",
       "2013-06-30 22:00:00   16.506  154.692  0.019\n",
       "2013-06-30 22:30:00   24.024  145.467  0.008\n",
       "2013-06-30 23:00:00   26.264  137.357  0.007\n",
       "2013-06-30 23:30:00   47.475  122.438  0.000\n",
       "\n",
       "[17520 rows x 3 columns]"
      ]
     },
     "execution_count": 33,
     "metadata": {},
     "output_type": "execute_result"
    }
   ],
   "source": [
    "unstk.reset_index(level = [0, 1, 2], inplace = True)\n",
    "unstk['Timestamp'] = pd.to_datetime(unstk['date'] + unstk['time'], format='%d/%m/%Y%H:%M')\n",
    "unstk.pop('date')\n",
    "unstk.pop('time')\n",
    "df = unstk.groupby(by = 'Timestamp').sum()\n",
    "#unstk.pop('Consumption Category')\n",
    "df.reset_index(inplace=True)\n",
    "df.set_index('Timestamp', inplace=True)\n",
    "df.pop('Customer')\n",
    "df"
   ]
  },
  {
   "cell_type": "markdown",
   "metadata": {},
   "source": []
  },
  {
   "cell_type": "code",
   "execution_count": null,
   "metadata": {},
   "outputs": [],
   "source": [
    "australia = gpd.read_file(\"../data/POA_2016_AUST.shp\")"
   ]
  }
 ],
 "metadata": {
  "interpreter": {
   "hash": "2be10627c97095a54c5df866c2bcb8c50d361d2549511628e5dfabcb6895ebbd"
  },
  "kernelspec": {
   "display_name": "Python 3.7.11 ('micro')",
   "language": "python",
   "name": "python3"
  },
  "language_info": {
   "codemirror_mode": {
    "name": "ipython",
    "version": 3
   },
   "file_extension": ".py",
   "mimetype": "text/x-python",
   "name": "python",
   "nbconvert_exporter": "python",
   "pygments_lexer": "ipython3",
   "version": "3.7.11"
  },
  "orig_nbformat": 4
 },
 "nbformat": 4,
 "nbformat_minor": 2
}
